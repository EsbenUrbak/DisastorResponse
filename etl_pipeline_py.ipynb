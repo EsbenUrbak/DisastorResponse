{
  "nbformat": 4,
  "nbformat_minor": 0,
  "metadata": {
    "colab": {
      "name": "etl_pipeline.py",
      "provenance": [],
      "collapsed_sections": [],
      "authorship_tag": "ABX9TyOehL9yJqeambD5SykbahZP",
      "include_colab_link": true
    },
    "kernelspec": {
      "name": "python3",
      "display_name": "Python 3"
    }
  },
  "cells": [
    {
      "cell_type": "markdown",
      "metadata": {
        "id": "view-in-github",
        "colab_type": "text"
      },
      "source": [
        "<a href=\"https://colab.research.google.com/github/EsbenUrbak/DisastorResponse/blob/main/etl_pipeline_py.ipynb\" target=\"_parent\"><img src=\"https://colab.research.google.com/assets/colab-badge.svg\" alt=\"Open In Colab\"/></a>"
      ]
    },
    {
      "cell_type": "code",
      "metadata": {
        "id": "EX-74eNys36h"
      },
      "source": [
        "# import libraries\r\n",
        "import pandas as pd\r\n",
        "from sqlalchemy import create_engine"
      ],
      "execution_count": 1,
      "outputs": []
    },
    {
      "cell_type": "code",
      "metadata": {
        "id": "GVorkwJ2s_Lq"
      },
      "source": [
        "# load messages dataset\r\n",
        "messages = pd.read_csv(\"messages.csv\")\r\n",
        "categories = pd.read_csv(\"categories.csv\")\r\n",
        "df = messages.merge(categories, on='id')"
      ],
      "execution_count": null,
      "outputs": []
    },
    {
      "cell_type": "code",
      "metadata": {
        "id": "ZZUeEXYitH73"
      },
      "source": [
        "#cleaning of the categories column names\r\n",
        "categories = categories[\"categories\"].str.split(\";\", expand=True)\r\n",
        "row = categories[:1]\r\n",
        "category_names_split=row.T[0].str.split(\"-\", expand=True)\r\n",
        "category_colnames = category_names_split.iloc[:, [0]]\r\n",
        "category_colnames_list = category_colnames.values.tolist()\r\n",
        "category_colnames_list_flat = [item for sublist in category_colnames_list for item in sublist]\r\n",
        "categories.columns = category_colnames_list_flat"
      ],
      "execution_count": null,
      "outputs": []
    },
    {
      "cell_type": "code",
      "metadata": {
        "id": "Uwlk1mhntbOo"
      },
      "source": [
        "#Convert category values to just numbers 0 or 1.\r\n",
        "for column in categories:\r\n",
        "    #--First finding the position of @ in Email\r\n",
        "    categories['pos'] = categories[column].str.find('-')\r\n",
        "    #print(categories['pos'])\r\n",
        "    #--Using position to slice Email using a lambda function\r\n",
        "    categories[column] = categories.apply(lambda x: x[column][x['pos']+1:x['pos']+2],axis=1)\r\n",
        "    #print(\".\")\r\n",
        "    # set each value to be the last character of the string\r\n",
        "\r\n",
        "    # convert column from string to numeric\r\n",
        "    categories[column] =categories[column].astype(int) \r\n",
        "categories = categories.drop('pos',1)"
      ],
      "execution_count": null,
      "outputs": []
    },
    {
      "cell_type": "code",
      "metadata": {
        "id": "19hoQ4vNtfEJ"
      },
      "source": [
        "#Replace categories column in df with new category columns.\r\n",
        "df = df.drop('categories',1)\r\n",
        "# concatenate the original dataframe with the new `categories` dataframe\r\n",
        "df = pd.concat([df.reset_index(drop=True),categories.reset_index(drop=True)], axis=1)\r\n",
        "\r\n",
        "# drop duplicates\r\n",
        "df = df.drop_duplicates()"
      ],
      "execution_count": null,
      "outputs": []
    },
    {
      "cell_type": "code",
      "metadata": {
        "id": "8LoofrECtohL"
      },
      "source": [
        "engine = create_engine('sqlite:///InsertDatabaseName.db')\r\n",
        "df.to_sql('InsertTableName', engine, index=False)"
      ],
      "execution_count": null,
      "outputs": []
    }
  ]
}